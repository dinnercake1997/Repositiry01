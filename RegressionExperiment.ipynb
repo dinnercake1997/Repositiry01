{
 "cells": [
  {
   "cell_type": "code",
   "execution_count": 1,
   "metadata": {},
   "outputs": [
    {
     "name": "stdout",
     "output_type": "stream",
     "text": [
      "________________________________________________________________________________\n",
      "[Memory] Calling __main__-D%3A-jupyterWork-__ipython-input__.get_data...\n",
      "get_data()\n",
      "_________________________________________________________get_data - 0.0s, 0.0min\n"
     ]
    }
   ],
   "source": [
    "from sklearn.externals.joblib import Memory\n",
    "from sklearn.datasets import load_svmlight_file\n",
    "\n",
    "mem = Memory(\"./mycache\")\n",
    "@mem.cache\n",
    "def get_data():\n",
    "    data = load_svmlight_file(\"housing.txt\")\n",
    "    return data[0], data[1]\n",
    "\n",
    "X, y = get_data()\n",
    "train_X = X[0:506]\n",
    "train_y = y[0:506]"
   ]
  },
  {
   "cell_type": "code",
   "execution_count": 3,
   "metadata": {},
   "outputs": [
    {
     "name": "stdout",
     "output_type": "stream",
     "text": [
      "(339, 1)\n"
     ]
    }
   ],
   "source": [
    "from numpy import *\n",
    "import  numpy as np\n",
    "from sklearn.model_selection import train_test_split\n",
    "\n",
    "X_train, X_validation, y_train, y_validation = train_test_split(X, y, test_size=0.33, random_state=42)\n",
    "Xt=X_train.toarray()\n",
    "Xt=mat(Xt)\n",
    "Xv=X_validation.toarray()\n",
    "Xv=mat(Xv)\n",
    "Yt=mat(y_train).T\n",
    "Yv=mat(y_validation).T\n",
    "\n",
    "#print(Xt.shape)\n",
    "#print(y_train.shape)\n",
    "#print(y_train)\n",
    "w=[np.float(10)for i in range(14)]\n",
    "w=mat(w).T\n",
    "\n",
    "one=[np.float64(1) for x in range(339)]\n",
    "one2=[np.float64(1) for x in range(167)]\n",
    "\n",
    "\n",
    "nita=0.0001\n",
    "Xtt = np.column_stack((Xt,one))#为train集矩阵最后面加一列1\n",
    "Xvv = np.column_stack((Xv,one2))#为Validation集最后面加一列1\n",
    "print(Yt.shape)"
   ]
  },
  {
   "cell_type": "code",
   "execution_count": 4,
   "metadata": {},
   "outputs": [
    {
     "name": "stdout",
     "output_type": "stream",
     "text": [
      "15330.853530885723\n"
     ]
    }
   ],
   "source": [
    "time=100\n",
    "loss=[np.float(10)for i in range(0,time)]\n",
    "lossV=[np.float(10)for i in range(0,time)]\n",
    "for i in range(0,time):\n",
    "    w1=2*(Xtt.T)*(Xtt*w-Yt)\n",
    "    w=w-nita*w1\n",
    "    L=np.float(((Xtt*w-Yt).T)*(Xtt*w-Yt))\n",
    "    LV=np.float(((Xvv*w-Yv).T)*(Xvv*w-Yv))\n",
    "    loss[i]=L\n",
    "    lossV[i]=LV\n",
    "    #lossV[i]=LV\n",
    "\n",
    "\n",
    "print(loss[time-1])"
   ]
  },
  {
   "cell_type": "code",
   "execution_count": 5,
   "metadata": {},
   "outputs": [
    {
     "data": {
      "image/png": "[encoded data removed]",
      "text/plain": [
       "<matplotlib.figure.Figure at 0x1ea63a2e470>"
      ]
     },
     "metadata": {},
     "output_type": "display_data"
    }
   ],
   "source": [
    "x_data=np.arange(0,time,1)\n",
    "y_data=loss\n",
    "\n",
    "\n",
    "y_data2=lossV\n",
    "import matplotlib.pyplot as plt\n",
    "plt.plot(x_data,y_data)\n",
    "plt.plot(x_data,y_data2)\n",
    "plt.title(u\"Loss\")\n",
    "plt.legend()\n",
    "plt.xlabel(u\"time\")\n",
    "plt.ylabel(u\"loss\")\n",
    "plt.show()\n",
    "#红色为验证集，蓝色为训练集"
   ]
  },
  {
   "cell_type": "code",
   "execution_count": null,
   "metadata": {
    "collapsed": true
   },
   "outputs": [],
   "source": []
  }
 ],
 "metadata": {
  "kernelspec": {
   "display_name": "Python 3",
   "language": "python",
   "name": "python3"
  },
  "language_info": {
   "codemirror_mode": {
    "name": "ipython",
    "version": 3
   },
   "file_extension": ".py",
   "mimetype": "text/x-python",
   "name": "python",
   "nbconvert_exporter": "python",
   "pygments_lexer": "ipython3",
   "version": "3.6.3"
  }
 },
 "nbformat": 4,
 "nbformat_minor": 2
}
